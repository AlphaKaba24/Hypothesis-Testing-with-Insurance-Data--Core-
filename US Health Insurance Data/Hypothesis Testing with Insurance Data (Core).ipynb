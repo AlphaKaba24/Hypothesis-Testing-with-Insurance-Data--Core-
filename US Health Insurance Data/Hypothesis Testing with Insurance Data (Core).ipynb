{
 "cells": [
  {
   "cell_type": "code",
   "execution_count": 88,
   "id": "ea131bb5",
   "metadata": {
    "ExecuteTime": {
     "end_time": "2022-08-09T23:35:25.611154Z",
     "start_time": "2022-08-09T23:35:25.600242Z"
    }
   },
   "outputs": [],
   "source": [
    "import pandas as pd\n",
    "import numpy as np\n",
    "import matplotlib.pyplot as plt\n",
    "import seaborn as sns\n",
    "import scipy.stats as stats\n",
    "from statsmodels.stats.multicomp import pairwise_tukeyhsd"
   ]
  },
  {
   "cell_type": "code",
   "execution_count": 36,
   "id": "e9facec5",
   "metadata": {
    "ExecuteTime": {
     "end_time": "2022-08-09T22:40:13.912048Z",
     "start_time": "2022-08-09T22:40:13.889422Z"
    }
   },
   "outputs": [
    {
     "data": {
      "text/html": [
       "<div>\n",
       "<style scoped>\n",
       "    .dataframe tbody tr th:only-of-type {\n",
       "        vertical-align: middle;\n",
       "    }\n",
       "\n",
       "    .dataframe tbody tr th {\n",
       "        vertical-align: top;\n",
       "    }\n",
       "\n",
       "    .dataframe thead th {\n",
       "        text-align: right;\n",
       "    }\n",
       "</style>\n",
       "<table border=\"1\" class=\"dataframe\">\n",
       "  <thead>\n",
       "    <tr style=\"text-align: right;\">\n",
       "      <th></th>\n",
       "      <th>age</th>\n",
       "      <th>sex</th>\n",
       "      <th>bmi</th>\n",
       "      <th>children</th>\n",
       "      <th>smoker</th>\n",
       "      <th>region</th>\n",
       "      <th>charges</th>\n",
       "    </tr>\n",
       "  </thead>\n",
       "  <tbody>\n",
       "    <tr>\n",
       "      <th>0</th>\n",
       "      <td>19</td>\n",
       "      <td>female</td>\n",
       "      <td>27.900</td>\n",
       "      <td>0</td>\n",
       "      <td>yes</td>\n",
       "      <td>southwest</td>\n",
       "      <td>16884.92400</td>\n",
       "    </tr>\n",
       "    <tr>\n",
       "      <th>1</th>\n",
       "      <td>18</td>\n",
       "      <td>male</td>\n",
       "      <td>33.770</td>\n",
       "      <td>1</td>\n",
       "      <td>no</td>\n",
       "      <td>southeast</td>\n",
       "      <td>1725.55230</td>\n",
       "    </tr>\n",
       "    <tr>\n",
       "      <th>2</th>\n",
       "      <td>28</td>\n",
       "      <td>male</td>\n",
       "      <td>33.000</td>\n",
       "      <td>3</td>\n",
       "      <td>no</td>\n",
       "      <td>southeast</td>\n",
       "      <td>4449.46200</td>\n",
       "    </tr>\n",
       "    <tr>\n",
       "      <th>3</th>\n",
       "      <td>33</td>\n",
       "      <td>male</td>\n",
       "      <td>22.705</td>\n",
       "      <td>0</td>\n",
       "      <td>no</td>\n",
       "      <td>northwest</td>\n",
       "      <td>21984.47061</td>\n",
       "    </tr>\n",
       "    <tr>\n",
       "      <th>4</th>\n",
       "      <td>32</td>\n",
       "      <td>male</td>\n",
       "      <td>28.880</td>\n",
       "      <td>0</td>\n",
       "      <td>no</td>\n",
       "      <td>northwest</td>\n",
       "      <td>3866.85520</td>\n",
       "    </tr>\n",
       "  </tbody>\n",
       "</table>\n",
       "</div>"
      ],
      "text/plain": [
       "   age     sex     bmi  children smoker     region      charges\n",
       "0   19  female  27.900         0    yes  southwest  16884.92400\n",
       "1   18    male  33.770         1     no  southeast   1725.55230\n",
       "2   28    male  33.000         3     no  southeast   4449.46200\n",
       "3   33    male  22.705         0     no  northwest  21984.47061\n",
       "4   32    male  28.880         0     no  northwest   3866.85520"
      ]
     },
     "execution_count": 36,
     "metadata": {},
     "output_type": "execute_result"
    }
   ],
   "source": [
    "df = pd.read_csv('US_Health_insurance.csv')\n",
    "df.head()"
   ]
  },
  {
   "cell_type": "code",
   "execution_count": 37,
   "id": "9e8cab32",
   "metadata": {
    "ExecuteTime": {
     "end_time": "2022-08-09T22:40:14.127208Z",
     "start_time": "2022-08-09T22:40:14.114312Z"
    }
   },
   "outputs": [],
   "source": [
    "#males = df.loc[ df['sex'] == 'male'].copy()\n",
    "#females = df.loc[ df['sex'] == 'female'].copy()\n",
    "#smokers = df.loc[ df['smoker'] == 'yes'].copy()\n",
    "#non_smokers = df.loc[ df['smoker'] == 'no'].copy()"
   ]
  },
  {
   "cell_type": "code",
   "execution_count": 38,
   "id": "46ef294b",
   "metadata": {
    "ExecuteTime": {
     "end_time": "2022-08-09T22:40:14.479959Z",
     "start_time": "2022-08-09T22:40:14.465575Z"
    },
    "scrolled": true
   },
   "outputs": [
    {
     "name": "stdout",
     "output_type": "stream",
     "text": [
      "<class 'pandas.core.frame.DataFrame'>\n",
      "RangeIndex: 1338 entries, 0 to 1337\n",
      "Data columns (total 7 columns):\n",
      " #   Column    Non-Null Count  Dtype  \n",
      "---  ------    --------------  -----  \n",
      " 0   age       1338 non-null   int64  \n",
      " 1   sex       1338 non-null   object \n",
      " 2   bmi       1338 non-null   float64\n",
      " 3   children  1338 non-null   int64  \n",
      " 4   smoker    1338 non-null   object \n",
      " 5   region    1338 non-null   object \n",
      " 6   charges   1338 non-null   float64\n",
      "dtypes: float64(2), int64(2), object(3)\n",
      "memory usage: 73.3+ KB\n"
     ]
    }
   ],
   "source": [
    "df.info()"
   ]
  },
  {
   "cell_type": "code",
   "execution_count": 39,
   "id": "6e87c7f7",
   "metadata": {
    "ExecuteTime": {
     "end_time": "2022-08-09T22:40:14.848613Z",
     "start_time": "2022-08-09T22:40:14.837205Z"
    }
   },
   "outputs": [],
   "source": [
    "num_col = ['age', 'bmi', 'charges']\n",
    "cat_col = ['sex', 'children', 'smoker','region']"
   ]
  },
  {
   "cell_type": "code",
   "execution_count": 40,
   "id": "3b205a80",
   "metadata": {
    "ExecuteTime": {
     "end_time": "2022-08-09T22:40:15.386433Z",
     "start_time": "2022-08-09T22:40:15.287233Z"
    },
    "scrolled": true
   },
   "outputs": [
    {
     "data": {
      "text/plain": [
       "<AxesSubplot:>"
      ]
     },
     "execution_count": 40,
     "metadata": {},
     "output_type": "execute_result"
    },
    {
     "data": {
      "image/png": "[encoded data removed]",
      "text/plain": [
       "<Figure size 432x288 with 1 Axes>"
      ]
     },
     "metadata": {
      "needs_background": "light"
     },
     "output_type": "display_data"
    }
   ],
   "source": [
    "df.boxplot(num_col)"
   ]
  },
  {
   "cell_type": "code",
   "execution_count": 41,
   "id": "a04f5adf",
   "metadata": {
    "ExecuteTime": {
     "end_time": "2022-08-09T22:40:15.816792Z",
     "start_time": "2022-08-09T22:40:15.807864Z"
    },
    "scrolled": true
   },
   "outputs": [
    {
     "data": {
      "text/plain": [
       "age         0\n",
       "sex         0\n",
       "bmi         0\n",
       "children    0\n",
       "smoker      0\n",
       "region      0\n",
       "charges     0\n",
       "dtype: int64"
      ]
     },
     "execution_count": 41,
     "metadata": {},
     "output_type": "execute_result"
    }
   ],
   "source": [
    "df.isnull().sum()"
   ]
  },
  {
   "cell_type": "code",
   "execution_count": 42,
   "id": "eebb68d9",
   "metadata": {
    "ExecuteTime": {
     "end_time": "2022-08-09T22:40:17.984314Z",
     "start_time": "2022-08-09T22:40:17.975882Z"
    }
   },
   "outputs": [],
   "source": [
    "df = df.dropna(axis=0)"
   ]
  },
  {
   "cell_type": "code",
   "execution_count": 43,
   "id": "fc83c051",
   "metadata": {
    "ExecuteTime": {
     "end_time": "2022-08-09T22:40:18.505856Z",
     "start_time": "2022-08-09T22:40:18.498884Z"
    },
    "scrolled": true
   },
   "outputs": [
    {
     "data": {
      "text/plain": [
       "age         0\n",
       "sex         0\n",
       "bmi         0\n",
       "children    0\n",
       "smoker      0\n",
       "region      0\n",
       "charges     0\n",
       "dtype: int64"
      ]
     },
     "execution_count": 43,
     "metadata": {},
     "output_type": "execute_result"
    }
   ],
   "source": [
    "df.isnull().sum()"
   ]
  },
  {
   "cell_type": "code",
   "execution_count": 44,
   "id": "211243c9",
   "metadata": {
    "ExecuteTime": {
     "end_time": "2022-08-09T22:40:21.308538Z",
     "start_time": "2022-08-09T22:40:21.200540Z"
    }
   },
   "outputs": [
    {
     "data": {
      "text/plain": [
       "<AxesSubplot:>"
      ]
     },
     "execution_count": 44,
     "metadata": {},
     "output_type": "execute_result"
    },
    {
     "data": {
      "image/png": "[encoded data removed]",
      "text/plain": [
       "<Figure size 432x288 with 1 Axes>"
      ]
     },
     "metadata": {
      "needs_background": "light"
     },
     "output_type": "display_data"
    }
   ],
   "source": [
    "df.boxplot(num_col)"
   ]
  },
  {
   "cell_type": "code",
   "execution_count": 45,
   "id": "3c17b701",
   "metadata": {
    "ExecuteTime": {
     "end_time": "2022-08-09T22:40:23.571264Z",
     "start_time": "2022-08-09T22:40:23.555888Z"
    }
   },
   "outputs": [],
   "source": [
    "## Q1\n",
    "### Null Hypothesis: There is no difference in insurance charges between smokers and non-smokers\n",
    "### Alt Hypothesis: We see a difference in insurance charges betweem smokers and non-smokers"
   ]
  },
  {
   "cell_type": "code",
   "execution_count": 46,
   "id": "838d0c20",
   "metadata": {
    "ExecuteTime": {
     "end_time": "2022-08-09T22:40:24.061851Z",
     "start_time": "2022-08-09T22:40:24.039985Z"
    }
   },
   "outputs": [
    {
     "name": "stdout",
     "output_type": "stream",
     "text": [
      "Old Shape:  (1338, 7)\n",
      "New Shape:  (1198, 7)\n"
     ]
    },
    {
     "name": "stderr",
     "output_type": "stream",
     "text": [
      "C:\\Users\\Alpha\\AppData\\Local\\Temp\\ipykernel_3300\\939478495.py:2: DeprecationWarning: the `interpolation=` argument to percentile was renamed to `method=`, which has additional options.\n",
      "Users of the modes 'nearest', 'lower', 'higher', or 'midpoint' are encouraged to review the method they. (Deprecated NumPy 1.22)\n",
      "  Q1 = np.percentile(df['charges'], 25,\n",
      "C:\\Users\\Alpha\\AppData\\Local\\Temp\\ipykernel_3300\\939478495.py:5: DeprecationWarning: the `interpolation=` argument to percentile was renamed to `method=`, which has additional options.\n",
      "Users of the modes 'nearest', 'lower', 'higher', or 'midpoint' are encouraged to review the method they. (Deprecated NumPy 1.22)\n",
      "  Q3 = np.percentile(df['charges'], 75,\n"
     ]
    }
   ],
   "source": [
    "## From: \"https://www.geeksforgeeks.org/detect-and-remove-the-outliers-using-python/\"\n",
    "Q1 = np.percentile(df['charges'], 25,\n",
    "                   interpolation = 'midpoint')\n",
    " \n",
    "Q3 = np.percentile(df['charges'], 75,\n",
    "                   interpolation = 'midpoint')\n",
    "IQR = Q3 - Q1\n",
    " \n",
    "print(\"Old Shape: \", df.shape)\n",
    " \n",
    "# Upper bound\n",
    "upper = np.where(df['charges'] >= (Q3+1.5*IQR))\n",
    "# Lower bound\n",
    "lower = np.where(df['charges'] <= (Q1-1.5*IQR))\n",
    "\n",
    "df.drop(upper[0], inplace = True)\n",
    "df.drop(lower[0], inplace = True)\n",
    " \n",
    "print(\"New Shape: \", df.shape)"
   ]
  },
  {
   "cell_type": "code",
   "execution_count": 47,
   "id": "0449bcd7",
   "metadata": {
    "ExecuteTime": {
     "end_time": "2022-08-09T22:40:29.034304Z",
     "start_time": "2022-08-09T22:40:29.027345Z"
    }
   },
   "outputs": [
    {
     "name": "stdout",
     "output_type": "stream",
     "text": [
      "For smokers (n=137): Mean=21923.31\n",
      "For Non-smokers (n=1061): Mean=8355.71\n"
     ]
    }
   ],
   "source": [
    "smoker_charges = df.loc[ df['smoker']=='yes',\"charges\"]\n",
    "nonsmoker_charges = df.loc[ df['smoker']=='no',\"charges\"]\n",
    "\n",
    "print(f\"For smokers (n={len(smoker_charges)}): Mean={np.mean(smoker_charges):.2f}\")\n",
    "print(f\"For Non-smokers (n={len(nonsmoker_charges)}): Mean={np.mean(nonsmoker_charges):.2f}\")"
   ]
  },
  {
   "cell_type": "code",
   "execution_count": 48,
   "id": "4da6755b",
   "metadata": {
    "ExecuteTime": {
     "end_time": "2022-08-09T22:40:31.635327Z",
     "start_time": "2022-08-09T22:40:31.129926Z"
    }
   },
   "outputs": [
    {
     "data": {
      "image/png": "[encoded data removed]",
      "text/plain": [
       "<Figure size 720x360 with 2 Axes>"
      ]
     },
     "metadata": {
      "needs_background": "light"
     },
     "output_type": "display_data"
    }
   ],
   "source": [
    "smoker_palette={'yes':'dodgerblue', \"no\":'salmon'}\n",
    "fig, (ax,ax_bar) = plt.subplots(figsize= (10,5), ncols=2, \n",
    "                                constrained_layout=True,\n",
    "                                gridspec_kw={'width_ratios':[0.8,0.2]})\n",
    "ax = sns.histplot(data=df, x='charges',fill=True,hue='smoker',kde=True,\n",
    "                  stat='density',common_norm=False,ax=ax,\n",
    "                  palette=smoker_palette)\n",
    "ax.axvline(np.mean(smoker_charges), ls='--',lw=3, \n",
    "           label=f\"Smokers (Mean={np.mean(smoker_charges):.2f})\",color=smoker_palette['yes'])\n",
    "\n",
    "ax.axvline(np.mean(nonsmoker_charges), ls='--', lw=3, \n",
    "           label=f\"Non-Smokers (Mean={np.mean(nonsmoker_charges):.2f})\",color=smoker_palette['no'])\n",
    "\n",
    "ax.legend(prop={\"size\":14}, loc='upper right')\n",
    "\n",
    "sns.barplot(data=df, x='smoker',y='charges',ax = ax_bar,palette=smoker_palette)\n",
    "fig.suptitle('Smoker vs. Non-Smoker Avg. charges',fontsize='xx-large');"
   ]
  },
  {
   "cell_type": "code",
   "execution_count": 49,
   "id": "f26db5b8",
   "metadata": {
    "ExecuteTime": {
     "end_time": "2022-08-09T22:40:35.789452Z",
     "start_time": "2022-08-09T22:40:35.783506Z"
    }
   },
   "outputs": [
    {
     "data": {
      "text/plain": [
       "0"
      ]
     },
     "execution_count": 49,
     "metadata": {},
     "output_type": "execute_result"
    }
   ],
   "source": [
    "zscores_s = stats.zscore(smoker_charges)\n",
    "outliers_s = abs(zscores_s)>3\n",
    "np.sum(outliers_s)"
   ]
  },
  {
   "cell_type": "code",
   "execution_count": 50,
   "id": "a69b5ef1",
   "metadata": {
    "ExecuteTime": {
     "end_time": "2022-08-09T22:40:36.205128Z",
     "start_time": "2022-08-09T22:40:36.196198Z"
    }
   },
   "outputs": [
    {
     "data": {
      "text/plain": [
       "26"
      ]
     },
     "execution_count": 50,
     "metadata": {},
     "output_type": "execute_result"
    }
   ],
   "source": [
    "zscores_n = stats.zscore(nonsmoker_charges)\n",
    "outliers_n = abs(zscores_n)>3\n",
    "np.sum(outliers_n)"
   ]
  },
  {
   "cell_type": "code",
   "execution_count": 51,
   "id": "7a86247a",
   "metadata": {
    "ExecuteTime": {
     "end_time": "2022-08-09T22:40:39.698843Z",
     "start_time": "2022-08-09T22:40:39.690420Z"
    }
   },
   "outputs": [
    {
     "data": {
      "text/plain": [
       "1639.56310     2\n",
       "1725.55230     1\n",
       "8891.13950     1\n",
       "2690.11380     1\n",
       "26140.36030    1\n",
       "              ..\n",
       "11840.77505    1\n",
       "10601.41200    1\n",
       "7682.67000     1\n",
       "10381.47870    1\n",
       "2007.94500     1\n",
       "Name: charges, Length: 1060, dtype: int64"
      ]
     },
     "execution_count": 51,
     "metadata": {},
     "output_type": "execute_result"
    }
   ],
   "source": [
    "nonsmoker_charges.value_counts()"
   ]
  },
  {
   "cell_type": "code",
   "execution_count": 52,
   "id": "e9d2b1d0",
   "metadata": {
    "ExecuteTime": {
     "end_time": "2022-08-09T22:40:43.253812Z",
     "start_time": "2022-08-09T22:40:43.241881Z"
    }
   },
   "outputs": [
    {
     "data": {
      "text/plain": [
       "NormaltestResult(statistic=12.919862708103514, pvalue=0.0015649031309664648)"
      ]
     },
     "execution_count": 52,
     "metadata": {},
     "output_type": "execute_result"
    }
   ],
   "source": [
    "result_s = stats.normaltest(smoker_charges)\n",
    "result_s"
   ]
  },
  {
   "cell_type": "code",
   "execution_count": 53,
   "id": "25a72fd5",
   "metadata": {
    "ExecuteTime": {
     "end_time": "2022-08-09T22:40:50.950042Z",
     "start_time": "2022-08-09T22:40:50.941611Z"
    }
   },
   "outputs": [
    {
     "data": {
      "text/plain": [
       "NormaltestResult(statistic=276.60999684673345, pvalue=8.608002116282395e-61)"
      ]
     },
     "execution_count": 53,
     "metadata": {},
     "output_type": "execute_result"
    }
   ],
   "source": [
    "result_n = stats.normaltest(nonsmoker_charges)\n",
    "result_n"
   ]
  },
  {
   "cell_type": "code",
   "execution_count": 54,
   "id": "c4e00e0e",
   "metadata": {
    "ExecuteTime": {
     "end_time": "2022-08-09T22:45:28.306739Z",
     "start_time": "2022-08-09T22:45:28.295827Z"
    }
   },
   "outputs": [
    {
     "data": {
      "text/plain": [
       "LeveneResult(statistic=0.07804186146595886, pvalue=0.7800170690683715)"
      ]
     },
     "execution_count": 54,
     "metadata": {},
     "output_type": "execute_result"
    }
   ],
   "source": [
    "levresult = stats.levene(smoker_charges, nonsmoker_charges)\n",
    "levresult"
   ]
  },
  {
   "cell_type": "code",
   "execution_count": null,
   "id": "213e13e4",
   "metadata": {},
   "outputs": [],
   "source": [
    "## We fail to reject the null hypothesis because our P value > 0.05 after our equal variance assumption test"
   ]
  },
  {
   "cell_type": "code",
   "execution_count": 55,
   "id": "15b50976",
   "metadata": {
    "ExecuteTime": {
     "end_time": "2022-08-09T22:47:52.502243Z",
     "start_time": "2022-08-09T22:47:52.494831Z"
    }
   },
   "outputs": [
    {
     "data": {
      "text/plain": [
       "Ttest_indResult(statistic=25.88146002127965, pvalue=1.2127043831433138e-117)"
      ]
     },
     "execution_count": 55,
     "metadata": {},
     "output_type": "execute_result"
    }
   ],
   "source": [
    "result_ttest = stats.ttest_ind(smoker_charges,nonsmoker_charges)\n",
    "result_ttest"
   ]
  },
  {
   "cell_type": "code",
   "execution_count": null,
   "id": "f42c3c48",
   "metadata": {},
   "outputs": [],
   "source": [
    "## P-value > 0.05 fail to reject null hypothesis"
   ]
  },
  {
   "cell_type": "code",
   "execution_count": 57,
   "id": "97e809b0",
   "metadata": {
    "ExecuteTime": {
     "end_time": "2022-08-09T22:49:14.642315Z",
     "start_time": "2022-08-09T22:49:14.624956Z"
    }
   },
   "outputs": [
    {
     "name": "stdout",
     "output_type": "stream",
     "text": [
      "p-value=0.0000000000\n",
      "Significant: True\n"
     ]
    }
   ],
   "source": [
    "## is our result significant\n",
    "print(f\"p-value={result_ttest.pvalue:.10f}\")\n",
    "print(f\"Significant: {result_ttest.pvalue <.05}\")"
   ]
  },
  {
   "cell_type": "code",
   "execution_count": null,
   "id": "1c2fad61",
   "metadata": {},
   "outputs": [],
   "source": [
    "##Significant result. There IS a difference between smoker and non-smoker charges"
   ]
  },
  {
   "cell_type": "code",
   "execution_count": null,
   "id": "d1efcef9",
   "metadata": {},
   "outputs": [],
   "source": [
    "## Q2\n",
    "### Null Hypothesis: There is no difference between average Male smokers and average Female smokers\n",
    "### Alt Hypothesis: There is a difference between average Male smokers and average Female smokers"
   ]
  },
  {
   "cell_type": "code",
   "execution_count": 72,
   "id": "cc31fb05",
   "metadata": {
    "ExecuteTime": {
     "end_time": "2022-08-09T23:20:22.835473Z",
     "start_time": "2022-08-09T23:20:22.716506Z"
    }
   },
   "outputs": [
    {
     "data": {
      "image/png": "[encoded data removed]",
      "text/plain": [
       "<Figure size 432x288 with 1 Axes>"
      ]
     },
     "metadata": {
      "needs_background": "light"
     },
     "output_type": "display_data"
    }
   ],
   "source": [
    "ax = sns.countplot(data=df, x='sex',hue='smoker',)\n",
    "ax.set_title(\"Number of Smokers by Sex\");"
   ]
  },
  {
   "cell_type": "code",
   "execution_count": 73,
   "id": "082fd340",
   "metadata": {
    "ExecuteTime": {
     "end_time": "2022-08-09T23:20:52.097239Z",
     "start_time": "2022-08-09T23:20:52.041283Z"
    }
   },
   "outputs": [
    {
     "data": {
      "text/html": [
       "<div>\n",
       "<style scoped>\n",
       "    .dataframe tbody tr th:only-of-type {\n",
       "        vertical-align: middle;\n",
       "    }\n",
       "\n",
       "    .dataframe tbody tr th {\n",
       "        vertical-align: top;\n",
       "    }\n",
       "\n",
       "    .dataframe thead th {\n",
       "        text-align: right;\n",
       "    }\n",
       "</style>\n",
       "<table border=\"1\" class=\"dataframe\">\n",
       "  <thead>\n",
       "    <tr style=\"text-align: right;\">\n",
       "      <th>smoker</th>\n",
       "      <th>no</th>\n",
       "      <th>yes</th>\n",
       "    </tr>\n",
       "    <tr>\n",
       "      <th>sex</th>\n",
       "      <th></th>\n",
       "      <th></th>\n",
       "    </tr>\n",
       "  </thead>\n",
       "  <tbody>\n",
       "    <tr>\n",
       "      <th>female</th>\n",
       "      <td>544</td>\n",
       "      <td>68</td>\n",
       "    </tr>\n",
       "    <tr>\n",
       "      <th>male</th>\n",
       "      <td>517</td>\n",
       "      <td>69</td>\n",
       "    </tr>\n",
       "  </tbody>\n",
       "</table>\n",
       "</div>"
      ],
      "text/plain": [
       "smoker   no  yes\n",
       "sex             \n",
       "female  544   68\n",
       "male    517   69"
      ]
     },
     "execution_count": 73,
     "metadata": {},
     "output_type": "execute_result"
    }
   ],
   "source": [
    "table = pd.crosstab(df['sex'], df['smoker'])\n",
    "table"
   ]
  },
  {
   "cell_type": "code",
   "execution_count": 75,
   "id": "9acaae13",
   "metadata": {
    "ExecuteTime": {
     "end_time": "2022-08-09T23:22:03.862101Z",
     "start_time": "2022-08-09T23:22:03.851189Z"
    }
   },
   "outputs": [],
   "source": [
    "result = stats.chi2_contingency(table)\n",
    "chi2, p2, deg_free, expected_vals = result"
   ]
  },
  {
   "cell_type": "code",
   "execution_count": 77,
   "id": "ee5fb6bd",
   "metadata": {
    "ExecuteTime": {
     "end_time": "2022-08-09T23:22:12.929740Z",
     "start_time": "2022-08-09T23:22:12.912384Z"
    }
   },
   "outputs": [
    {
     "name": "stdout",
     "output_type": "stream",
     "text": [
      "0.7871669161904536\n"
     ]
    },
    {
     "data": {
      "text/plain": [
       "False"
      ]
     },
     "execution_count": 77,
     "metadata": {},
     "output_type": "execute_result"
    }
   ],
   "source": [
    "print(p2)\n",
    "p2<.05"
   ]
  },
  {
   "cell_type": "code",
   "execution_count": null,
   "id": "66cdbe12",
   "metadata": {},
   "outputs": [],
   "source": [
    "## No significant result here; p-value > 0.05, we fail to reject the null hypothesis"
   ]
  },
  {
   "cell_type": "code",
   "execution_count": null,
   "id": "b330779e",
   "metadata": {},
   "outputs": [],
   "source": [
    "## Q3\n",
    "### Null Hypothesis: Region does not have an effect on mean charge amount\n",
    "### Alt Hypothesis: Region does not NOT have an effect on mean charge amount"
   ]
  },
  {
   "cell_type": "code",
   "execution_count": 78,
   "id": "4039525b",
   "metadata": {
    "ExecuteTime": {
     "end_time": "2022-08-09T23:28:18.726818Z",
     "start_time": "2022-08-09T23:28:18.677248Z"
    },
    "deletable": false,
    "editable": false,
    "run_control": {
     "frozen": true
    }
   },
   "outputs": [
    {
     "ename": "KeyError",
     "evalue": "'Region'",
     "output_type": "error",
     "traceback": [
      "\u001b[1;31m---------------------------------------------------------------------------\u001b[0m",
      "\u001b[1;31mKeyError\u001b[0m                                  Traceback (most recent call last)",
      "File \u001b[1;32m~\\anaconda3\\envs\\dojo-env\\lib\\site-packages\\pandas\\core\\indexes\\base.py:3621\u001b[0m, in \u001b[0;36mIndex.get_loc\u001b[1;34m(self, key, method, tolerance)\u001b[0m\n\u001b[0;32m   3620\u001b[0m \u001b[38;5;28;01mtry\u001b[39;00m:\n\u001b[1;32m-> 3621\u001b[0m     \u001b[38;5;28;01mreturn\u001b[39;00m \u001b[38;5;28;43mself\u001b[39;49m\u001b[38;5;241;43m.\u001b[39;49m\u001b[43m_engine\u001b[49m\u001b[38;5;241;43m.\u001b[39;49m\u001b[43mget_loc\u001b[49m\u001b[43m(\u001b[49m\u001b[43mcasted_key\u001b[49m\u001b[43m)\u001b[49m\n\u001b[0;32m   3622\u001b[0m \u001b[38;5;28;01mexcept\u001b[39;00m \u001b[38;5;167;01mKeyError\u001b[39;00m \u001b[38;5;28;01mas\u001b[39;00m err:\n",
      "File \u001b[1;32m~\\anaconda3\\envs\\dojo-env\\lib\\site-packages\\pandas\\_libs\\index.pyx:136\u001b[0m, in \u001b[0;36mpandas._libs.index.IndexEngine.get_loc\u001b[1;34m()\u001b[0m\n",
      "File \u001b[1;32m~\\anaconda3\\envs\\dojo-env\\lib\\site-packages\\pandas\\_libs\\index.pyx:163\u001b[0m, in \u001b[0;36mpandas._libs.index.IndexEngine.get_loc\u001b[1;34m()\u001b[0m\n",
      "File \u001b[1;32mpandas\\_libs\\hashtable_class_helper.pxi:5198\u001b[0m, in \u001b[0;36mpandas._libs.hashtable.PyObjectHashTable.get_item\u001b[1;34m()\u001b[0m\n",
      "File \u001b[1;32mpandas\\_libs\\hashtable_class_helper.pxi:5206\u001b[0m, in \u001b[0;36mpandas._libs.hashtable.PyObjectHashTable.get_item\u001b[1;34m()\u001b[0m\n",
      "\u001b[1;31mKeyError\u001b[0m: 'Region'",
      "\nThe above exception was the direct cause of the following exception:\n",
      "\u001b[1;31mKeyError\u001b[0m                                  Traceback (most recent call last)",
      "Input \u001b[1;32mIn [78]\u001b[0m, in \u001b[0;36m<cell line: 1>\u001b[1;34m()\u001b[0m\n\u001b[1;32m----> 1\u001b[0m \u001b[43mdf\u001b[49m\u001b[43m[\u001b[49m\u001b[38;5;124;43m'\u001b[39;49m\u001b[38;5;124;43mRegion\u001b[39;49m\u001b[38;5;124;43m'\u001b[39;49m\u001b[43m]\u001b[49m\u001b[38;5;241m.\u001b[39munique()\n",
      "File \u001b[1;32m~\\anaconda3\\envs\\dojo-env\\lib\\site-packages\\pandas\\core\\frame.py:3505\u001b[0m, in \u001b[0;36mDataFrame.__getitem__\u001b[1;34m(self, key)\u001b[0m\n\u001b[0;32m   3503\u001b[0m \u001b[38;5;28;01mif\u001b[39;00m \u001b[38;5;28mself\u001b[39m\u001b[38;5;241m.\u001b[39mcolumns\u001b[38;5;241m.\u001b[39mnlevels \u001b[38;5;241m>\u001b[39m \u001b[38;5;241m1\u001b[39m:\n\u001b[0;32m   3504\u001b[0m     \u001b[38;5;28;01mreturn\u001b[39;00m \u001b[38;5;28mself\u001b[39m\u001b[38;5;241m.\u001b[39m_getitem_multilevel(key)\n\u001b[1;32m-> 3505\u001b[0m indexer \u001b[38;5;241m=\u001b[39m \u001b[38;5;28;43mself\u001b[39;49m\u001b[38;5;241;43m.\u001b[39;49m\u001b[43mcolumns\u001b[49m\u001b[38;5;241;43m.\u001b[39;49m\u001b[43mget_loc\u001b[49m\u001b[43m(\u001b[49m\u001b[43mkey\u001b[49m\u001b[43m)\u001b[49m\n\u001b[0;32m   3506\u001b[0m \u001b[38;5;28;01mif\u001b[39;00m is_integer(indexer):\n\u001b[0;32m   3507\u001b[0m     indexer \u001b[38;5;241m=\u001b[39m [indexer]\n",
      "File \u001b[1;32m~\\anaconda3\\envs\\dojo-env\\lib\\site-packages\\pandas\\core\\indexes\\base.py:3623\u001b[0m, in \u001b[0;36mIndex.get_loc\u001b[1;34m(self, key, method, tolerance)\u001b[0m\n\u001b[0;32m   3621\u001b[0m     \u001b[38;5;28;01mreturn\u001b[39;00m \u001b[38;5;28mself\u001b[39m\u001b[38;5;241m.\u001b[39m_engine\u001b[38;5;241m.\u001b[39mget_loc(casted_key)\n\u001b[0;32m   3622\u001b[0m \u001b[38;5;28;01mexcept\u001b[39;00m \u001b[38;5;167;01mKeyError\u001b[39;00m \u001b[38;5;28;01mas\u001b[39;00m err:\n\u001b[1;32m-> 3623\u001b[0m     \u001b[38;5;28;01mraise\u001b[39;00m \u001b[38;5;167;01mKeyError\u001b[39;00m(key) \u001b[38;5;28;01mfrom\u001b[39;00m \u001b[38;5;21;01merr\u001b[39;00m\n\u001b[0;32m   3624\u001b[0m \u001b[38;5;28;01mexcept\u001b[39;00m \u001b[38;5;167;01mTypeError\u001b[39;00m:\n\u001b[0;32m   3625\u001b[0m     \u001b[38;5;66;03m# If we have a listlike key, _check_indexing_error will raise\u001b[39;00m\n\u001b[0;32m   3626\u001b[0m     \u001b[38;5;66;03m#  InvalidIndexError. Otherwise we fall through and re-raise\u001b[39;00m\n\u001b[0;32m   3627\u001b[0m     \u001b[38;5;66;03m#  the TypeError.\u001b[39;00m\n\u001b[0;32m   3628\u001b[0m     \u001b[38;5;28mself\u001b[39m\u001b[38;5;241m.\u001b[39m_check_indexing_error(key)\n",
      "\u001b[1;31mKeyError\u001b[0m: 'Region'"
     ]
    }
   ],
   "source": [
    "df['region'].unique()"
   ]
  },
  {
   "cell_type": "code",
   "execution_count": 79,
   "id": "7cc6011b",
   "metadata": {
    "ExecuteTime": {
     "end_time": "2022-08-09T23:29:13.487231Z",
     "start_time": "2022-08-09T23:29:13.477820Z"
    }
   },
   "outputs": [
    {
     "data": {
      "text/plain": [
       "array(['southwest', 'southeast', 'northwest', 'northeast'], dtype=object)"
      ]
     },
     "execution_count": 79,
     "metadata": {},
     "output_type": "execute_result"
    }
   ],
   "source": [
    "df['region'].unique()"
   ]
  },
  {
   "cell_type": "code",
   "execution_count": 81,
   "id": "909e91bd",
   "metadata": {
    "ExecuteTime": {
     "end_time": "2022-08-09T23:31:12.847764Z",
     "start_time": "2022-08-09T23:31:12.831862Z"
    }
   },
   "outputs": [
    {
     "data": {
      "text/plain": [
       "dict_keys(['southwest', 'southeast', 'northwest', 'northeast'])"
      ]
     },
     "execution_count": 81,
     "metadata": {},
     "output_type": "execute_result"
    }
   ],
   "source": [
    "groups_region = {}\n",
    "\n",
    "for i in df['region'].unique():\n",
    "    \n",
    "    datar = df.loc[df['region']==i,'charges'].copy()\n",
    "    \n",
    "    \n",
    "    groups_region[i] = datar\n",
    "groups_region.keys()"
   ]
  },
  {
   "cell_type": "code",
   "execution_count": 82,
   "id": "9d3c3380",
   "metadata": {
    "ExecuteTime": {
     "end_time": "2022-08-09T23:32:17.542017Z",
     "start_time": "2022-08-09T23:32:17.515267Z"
    }
   },
   "outputs": [
    {
     "data": {
      "text/html": [
       "<div>\n",
       "<style scoped>\n",
       "    .dataframe tbody tr th:only-of-type {\n",
       "        vertical-align: middle;\n",
       "    }\n",
       "\n",
       "    .dataframe tbody tr th {\n",
       "        vertical-align: top;\n",
       "    }\n",
       "\n",
       "    .dataframe thead th {\n",
       "        text-align: right;\n",
       "    }\n",
       "</style>\n",
       "<table border=\"1\" class=\"dataframe\">\n",
       "  <thead>\n",
       "    <tr style=\"text-align: right;\">\n",
       "      <th></th>\n",
       "      <th>n</th>\n",
       "      <th>p</th>\n",
       "      <th>test stat</th>\n",
       "    </tr>\n",
       "  </thead>\n",
       "  <tbody>\n",
       "    <tr>\n",
       "      <th>southwest</th>\n",
       "      <td>290.0</td>\n",
       "      <td>1.238405e-14</td>\n",
       "      <td>64.044734</td>\n",
       "    </tr>\n",
       "    <tr>\n",
       "      <th>southeast</th>\n",
       "      <td>307.0</td>\n",
       "      <td>1.433158e-11</td>\n",
       "      <td>49.937112</td>\n",
       "    </tr>\n",
       "    <tr>\n",
       "      <th>northwest</th>\n",
       "      <td>305.0</td>\n",
       "      <td>5.665787e-13</td>\n",
       "      <td>56.398321</td>\n",
       "    </tr>\n",
       "    <tr>\n",
       "      <th>northeast</th>\n",
       "      <td>296.0</td>\n",
       "      <td>3.207934e-10</td>\n",
       "      <td>43.720448</td>\n",
       "    </tr>\n",
       "  </tbody>\n",
       "</table>\n",
       "</div>"
      ],
      "text/plain": [
       "               n             p  test stat\n",
       "southwest  290.0  1.238405e-14  64.044734\n",
       "southeast  307.0  1.433158e-11  49.937112\n",
       "northwest  305.0  5.665787e-13  56.398321\n",
       "northeast  296.0  3.207934e-10  43.720448"
      ]
     },
     "execution_count": 82,
     "metadata": {},
     "output_type": "execute_result"
    }
   ],
   "source": [
    "norm_results2 = {}\n",
    "for i, datar in groups_region.items():\n",
    "    stat, p = stats.normaltest(datar)\n",
    "    \n",
    "    norm_results2[i] = {'n': len(datar),\n",
    "                             'p':p,\n",
    "                             'test stat':stat,}\n",
    "\n",
    "norm_results_df2 = pd.DataFrame(norm_results2).T\n",
    "norm_results_df2"
   ]
  },
  {
   "cell_type": "code",
   "execution_count": 83,
   "id": "99869bb8",
   "metadata": {
    "ExecuteTime": {
     "end_time": "2022-08-09T23:32:44.011611Z",
     "start_time": "2022-08-09T23:32:43.994777Z"
    }
   },
   "outputs": [
    {
     "data": {
      "text/html": [
       "<div>\n",
       "<style scoped>\n",
       "    .dataframe tbody tr th:only-of-type {\n",
       "        vertical-align: middle;\n",
       "    }\n",
       "\n",
       "    .dataframe tbody tr th {\n",
       "        vertical-align: top;\n",
       "    }\n",
       "\n",
       "    .dataframe thead th {\n",
       "        text-align: right;\n",
       "    }\n",
       "</style>\n",
       "<table border=\"1\" class=\"dataframe\">\n",
       "  <thead>\n",
       "    <tr style=\"text-align: right;\">\n",
       "      <th></th>\n",
       "      <th>n</th>\n",
       "      <th>p</th>\n",
       "      <th>test stat</th>\n",
       "      <th>sig</th>\n",
       "    </tr>\n",
       "  </thead>\n",
       "  <tbody>\n",
       "    <tr>\n",
       "      <th>southwest</th>\n",
       "      <td>290.0</td>\n",
       "      <td>1.238405e-14</td>\n",
       "      <td>64.044734</td>\n",
       "      <td>True</td>\n",
       "    </tr>\n",
       "    <tr>\n",
       "      <th>southeast</th>\n",
       "      <td>307.0</td>\n",
       "      <td>1.433158e-11</td>\n",
       "      <td>49.937112</td>\n",
       "      <td>True</td>\n",
       "    </tr>\n",
       "    <tr>\n",
       "      <th>northwest</th>\n",
       "      <td>305.0</td>\n",
       "      <td>5.665787e-13</td>\n",
       "      <td>56.398321</td>\n",
       "      <td>True</td>\n",
       "    </tr>\n",
       "    <tr>\n",
       "      <th>northeast</th>\n",
       "      <td>296.0</td>\n",
       "      <td>3.207934e-10</td>\n",
       "      <td>43.720448</td>\n",
       "      <td>True</td>\n",
       "    </tr>\n",
       "  </tbody>\n",
       "</table>\n",
       "</div>"
      ],
      "text/plain": [
       "               n             p  test stat   sig\n",
       "southwest  290.0  1.238405e-14  64.044734  True\n",
       "southeast  307.0  1.433158e-11  49.937112  True\n",
       "northwest  305.0  5.665787e-13  56.398321  True\n",
       "northeast  296.0  3.207934e-10  43.720448  True"
      ]
     },
     "execution_count": 83,
     "metadata": {},
     "output_type": "execute_result"
    }
   ],
   "source": [
    "norm_results_df2['sig'] = norm_results_df2['p'] < .05 \n",
    "norm_results_df2"
   ]
  },
  {
   "cell_type": "code",
   "execution_count": null,
   "id": "088231b1",
   "metadata": {},
   "outputs": [],
   "source": [
    "##We can confirm that each group does not have a normal distribution; p value < 0.05"
   ]
  },
  {
   "cell_type": "code",
   "execution_count": null,
   "id": "e7959863",
   "metadata": {},
   "outputs": [],
   "source": [
    "##Now testing assumption of equal variance"
   ]
  },
  {
   "cell_type": "code",
   "execution_count": 84,
   "id": "d10a9471",
   "metadata": {
    "ExecuteTime": {
     "end_time": "2022-08-09T23:33:17.506336Z",
     "start_time": "2022-08-09T23:33:17.498430Z"
    }
   },
   "outputs": [
    {
     "data": {
      "text/plain": [
       "LeveneResult(statistic=3.211115382591314, pvalue=0.022304148632917083)"
      ]
     },
     "execution_count": 84,
     "metadata": {},
     "output_type": "execute_result"
    }
   ],
   "source": [
    "stats.levene(*groups_region.values())"
   ]
  },
  {
   "cell_type": "code",
   "execution_count": null,
   "id": "294d2709",
   "metadata": {},
   "outputs": [],
   "source": [
    "#We reject the null hypothesis because our P value > 0.05 after our equal variance assumption test"
   ]
  },
  {
   "cell_type": "code",
   "execution_count": 85,
   "id": "9ebcf388",
   "metadata": {
    "ExecuteTime": {
     "end_time": "2022-08-09T23:34:26.266774Z",
     "start_time": "2022-08-09T23:34:26.261795Z"
    }
   },
   "outputs": [],
   "source": [
    "values = df['charges']\n",
    "labels = df['region']"
   ]
  },
  {
   "cell_type": "code",
   "execution_count": 86,
   "id": "dd49a4a7",
   "metadata": {
    "ExecuteTime": {
     "end_time": "2022-08-09T23:34:52.972754Z",
     "start_time": "2022-08-09T23:34:52.957847Z"
    }
   },
   "outputs": [
    {
     "data": {
      "text/plain": [
       "F_onewayResult(statistic=3.718328444443425, pvalue=0.011156788785119389)"
      ]
     },
     "execution_count": 86,
     "metadata": {},
     "output_type": "execute_result"
    }
   ],
   "source": [
    "result_f = stats.f_oneway( *groups_region.values())\n",
    "result_f"
   ]
  },
  {
   "cell_type": "code",
   "execution_count": 89,
   "id": "0b1719c6",
   "metadata": {
    "ExecuteTime": {
     "end_time": "2022-08-09T23:35:29.406559Z",
     "start_time": "2022-08-09T23:35:29.019658Z"
    }
   },
   "outputs": [
    {
     "data": {
      "text/html": [
       "<table class=\"simpletable\">\n",
       "<caption>Multiple Comparison of Means - Tukey HSD, FWER=0.05</caption>\n",
       "<tr>\n",
       "   <th>group1</th>    <th>group2</th>    <th>meandiff</th>   <th>p-adj</th>    <th>lower</th>     <th>upper</th>   <th>reject</th>\n",
       "</tr>\n",
       "<tr>\n",
       "  <td>northeast</td> <td>northwest</td>  <td>-372.6698</td> <td>0.9205</td> <td>-1880.8152</td> <td>1135.4756</td>  <td>False</td>\n",
       "</tr>\n",
       "<tr>\n",
       "  <td>northeast</td> <td>southeast</td>  <td>-1161.982</td>  <td>0.194</td>  <td>-2667.706</td> <td>343.7419</td>   <td>False</td>\n",
       "</tr>\n",
       "<tr>\n",
       "  <td>northeast</td> <td>southwest</td> <td>-1802.5751</td>  <td>0.013</td> <td>-3329.8096</td> <td>-275.3407</td>  <td>True</td> \n",
       "</tr>\n",
       "<tr>\n",
       "  <td>northwest</td> <td>southeast</td>  <td>-789.3122</td> <td>0.5256</td>  <td>-2283.683</td> <td>705.0585</td>   <td>False</td>\n",
       "</tr>\n",
       "<tr>\n",
       "  <td>northwest</td> <td>southwest</td> <td>-1429.9053</td> <td>0.0727</td> <td>-2945.9476</td>  <td>86.137</td>    <td>False</td>\n",
       "</tr>\n",
       "<tr>\n",
       "  <td>southeast</td> <td>southwest</td>  <td>-640.5931</td> <td>0.6965</td> <td>-2154.2266</td> <td>873.0404</td>   <td>False</td>\n",
       "</tr>\n",
       "</table>"
      ],
      "text/plain": [
       "<class 'statsmodels.iolib.table.SimpleTable'>"
      ]
     },
     "execution_count": 89,
     "metadata": {},
     "output_type": "execute_result"
    }
   ],
   "source": [
    "tukeys_results = pairwise_tukeyhsd(values,labels)\n",
    "tukeys_results.summary()"
   ]
  },
  {
   "cell_type": "code",
   "execution_count": null,
   "id": "0f13d5ad",
   "metadata": {},
   "outputs": [],
   "source": [
    "## We do not see significant differences between the different sets of groups here and p values are all > 0.05 so I would conclude that this test indicates that we reject our null hypthosis in this case."
   ]
  }
 ],
 "metadata": {
  "hide_input": false,
  "kernelspec": {
   "display_name": "Python (dojo-env)",
   "language": "python",
   "name": "dojo-env"
  },
  "language_info": {
   "codemirror_mode": {
    "name": "ipython",
    "version": 3
   },
   "file_extension": ".py",
   "mimetype": "text/x-python",
   "name": "python",
   "nbconvert_exporter": "python",
   "pygments_lexer": "ipython3",
   "version": "3.8.13"
  },
  "latex_envs": {
   "LaTeX_envs_menu_present": true,
   "autoclose": false,
   "autocomplete": true,
   "bibliofile": "biblio.bib",
   "cite_by": "apalike",
   "current_citInitial": 1,
   "eqLabelWithNumbers": true,
   "eqNumInitial": 1,
   "hotkeys": {
    "equation": "Ctrl-E",
    "itemize": "Ctrl-I"
   },
   "labels_anchors": false,
   "latex_user_defs": false,
   "report_style_numbering": false,
   "user_envs_cfg": false
  },
  "nbTranslate": {
   "displayLangs": [
    "*"
   ],
   "hotkey": "alt-t",
   "langInMainMenu": true,
   "sourceLang": "en",
   "targetLang": "fr",
   "useGoogleTranslate": true
  },
  "toc": {
   "base_numbering": 1,
   "nav_menu": {},
   "number_sections": false,
   "sideBar": true,
   "skip_h1_title": false,
   "title_cell": "Table of Contents",
   "title_sidebar": "Contents",
   "toc_cell": false,
   "toc_position": {},
   "toc_section_display": true,
   "toc_window_display": false
  },
  "varInspector": {
   "cols": {
    "lenName": 16,
    "lenType": 16,
    "lenVar": 40
   },
   "kernels_config": {
    "python": {
     "delete_cmd_postfix": "",
     "delete_cmd_prefix": "del ",
     "library": "var_list.py",
     "varRefreshCmd": "print(var_dic_list())"
    },
    "r": {
     "delete_cmd_postfix": ") ",
     "delete_cmd_prefix": "rm(",
     "library": "var_list.r",
     "varRefreshCmd": "cat(var_dic_list()) "
    }
   },
   "types_to_exclude": [
    "module",
    "function",
    "builtin_function_or_method",
    "instance",
    "_Feature"
   ],
   "window_display": false
  }
 },
 "nbformat": 4,
 "nbformat_minor": 5
}
