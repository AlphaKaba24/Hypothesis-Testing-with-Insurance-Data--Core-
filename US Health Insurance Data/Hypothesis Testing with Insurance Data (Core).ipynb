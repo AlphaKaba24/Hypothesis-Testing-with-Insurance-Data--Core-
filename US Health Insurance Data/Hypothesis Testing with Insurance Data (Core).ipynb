{
 "cells": [
  {
   "cell_type": "code",
   "execution_count": 34,
   "id": "ea131bb5",
   "metadata": {
    "ExecuteTime": {
     "end_time": "2022-08-05T01:04:41.642378Z",
     "start_time": "2022-08-05T01:04:41.637914Z"
    }
   },
   "outputs": [],
   "source": [
    "import pandas as pd\n",
    "import numpy as np\n",
    "import matplotlib.pyplot as plt\n",
    "import seaborn as sns\n",
    "import scipy.stats as stats"
   ]
  },
  {
   "cell_type": "code",
   "execution_count": 35,
   "id": "e9facec5",
   "metadata": {
    "ExecuteTime": {
     "end_time": "2022-08-05T01:04:42.181327Z",
     "start_time": "2022-08-05T01:04:42.168924Z"
    }
   },
   "outputs": [
    {
     "data": {
      "text/html": [
       "<div>\n",
       "<style scoped>\n",
       "    .dataframe tbody tr th:only-of-type {\n",
       "        vertical-align: middle;\n",
       "    }\n",
       "\n",
       "    .dataframe tbody tr th {\n",
       "        vertical-align: top;\n",
       "    }\n",
       "\n",
       "    .dataframe thead th {\n",
       "        text-align: right;\n",
       "    }\n",
       "</style>\n",
       "<table border=\"1\" class=\"dataframe\">\n",
       "  <thead>\n",
       "    <tr style=\"text-align: right;\">\n",
       "      <th></th>\n",
       "      <th>age</th>\n",
       "      <th>sex</th>\n",
       "      <th>bmi</th>\n",
       "      <th>children</th>\n",
       "      <th>smoker</th>\n",
       "      <th>region</th>\n",
       "      <th>charges</th>\n",
       "    </tr>\n",
       "  </thead>\n",
       "  <tbody>\n",
       "    <tr>\n",
       "      <th>0</th>\n",
       "      <td>19</td>\n",
       "      <td>female</td>\n",
       "      <td>27.900</td>\n",
       "      <td>0</td>\n",
       "      <td>yes</td>\n",
       "      <td>southwest</td>\n",
       "      <td>16884.92400</td>\n",
       "    </tr>\n",
       "    <tr>\n",
       "      <th>1</th>\n",
       "      <td>18</td>\n",
       "      <td>male</td>\n",
       "      <td>33.770</td>\n",
       "      <td>1</td>\n",
       "      <td>no</td>\n",
       "      <td>southeast</td>\n",
       "      <td>1725.55230</td>\n",
       "    </tr>\n",
       "    <tr>\n",
       "      <th>2</th>\n",
       "      <td>28</td>\n",
       "      <td>male</td>\n",
       "      <td>33.000</td>\n",
       "      <td>3</td>\n",
       "      <td>no</td>\n",
       "      <td>southeast</td>\n",
       "      <td>4449.46200</td>\n",
       "    </tr>\n",
       "    <tr>\n",
       "      <th>3</th>\n",
       "      <td>33</td>\n",
       "      <td>male</td>\n",
       "      <td>22.705</td>\n",
       "      <td>0</td>\n",
       "      <td>no</td>\n",
       "      <td>northwest</td>\n",
       "      <td>21984.47061</td>\n",
       "    </tr>\n",
       "    <tr>\n",
       "      <th>4</th>\n",
       "      <td>32</td>\n",
       "      <td>male</td>\n",
       "      <td>28.880</td>\n",
       "      <td>0</td>\n",
       "      <td>no</td>\n",
       "      <td>northwest</td>\n",
       "      <td>3866.85520</td>\n",
       "    </tr>\n",
       "  </tbody>\n",
       "</table>\n",
       "</div>"
      ],
      "text/plain": [
       "   age     sex     bmi  children smoker     region      charges\n",
       "0   19  female  27.900         0    yes  southwest  16884.92400\n",
       "1   18    male  33.770         1     no  southeast   1725.55230\n",
       "2   28    male  33.000         3     no  southeast   4449.46200\n",
       "3   33    male  22.705         0     no  northwest  21984.47061\n",
       "4   32    male  28.880         0     no  northwest   3866.85520"
      ]
     },
     "execution_count": 35,
     "metadata": {},
     "output_type": "execute_result"
    }
   ],
   "source": [
    "df = pd.read_csv('US_Health_insurance.csv')\n",
    "df.head()"
   ]
  },
  {
   "cell_type": "code",
   "execution_count": 36,
   "id": "9e8cab32",
   "metadata": {
    "ExecuteTime": {
     "end_time": "2022-08-05T01:04:43.244469Z",
     "start_time": "2022-08-05T01:04:43.238032Z"
    }
   },
   "outputs": [],
   "source": [
    "#males = df.loc[ df['sex'] == 'male'].copy()\n",
    "#females = df.loc[ df['sex'] == 'female'].copy()\n",
    "#smokers = df.loc[ df['smoker'] == 'yes'].copy()\n",
    "#non_smokers = df.loc[ df['smoker'] == 'no'].copy()"
   ]
  },
  {
   "cell_type": "code",
   "execution_count": 37,
   "id": "46ef294b",
   "metadata": {
    "ExecuteTime": {
     "end_time": "2022-08-05T01:04:45.278384Z",
     "start_time": "2022-08-05T01:04:45.266007Z"
    },
    "scrolled": true
   },
   "outputs": [
    {
     "name": "stdout",
     "output_type": "stream",
     "text": [
      "<class 'pandas.core.frame.DataFrame'>\n",
      "RangeIndex: 1338 entries, 0 to 1337\n",
      "Data columns (total 7 columns):\n",
      " #   Column    Non-Null Count  Dtype  \n",
      "---  ------    --------------  -----  \n",
      " 0   age       1338 non-null   int64  \n",
      " 1   sex       1338 non-null   object \n",
      " 2   bmi       1338 non-null   float64\n",
      " 3   children  1338 non-null   int64  \n",
      " 4   smoker    1338 non-null   object \n",
      " 5   region    1338 non-null   object \n",
      " 6   charges   1338 non-null   float64\n",
      "dtypes: float64(2), int64(2), object(3)\n",
      "memory usage: 73.3+ KB\n"
     ]
    }
   ],
   "source": [
    "df.info()"
   ]
  },
  {
   "cell_type": "code",
   "execution_count": 38,
   "id": "6e87c7f7",
   "metadata": {
    "ExecuteTime": {
     "end_time": "2022-08-05T01:04:47.752979Z",
     "start_time": "2022-08-05T01:04:47.744028Z"
    }
   },
   "outputs": [],
   "source": [
    "num_col = ['age', 'bmi', 'charges']\n",
    "cat_col = ['sex', 'children', 'smoker','region']"
   ]
  },
  {
   "cell_type": "code",
   "execution_count": 39,
   "id": "3b205a80",
   "metadata": {
    "ExecuteTime": {
     "end_time": "2022-08-05T01:04:48.628693Z",
     "start_time": "2022-08-05T01:04:48.527040Z"
    },
    "scrolled": true
   },
   "outputs": [
    {
     "data": {
      "text/plain": [
       "<AxesSubplot:>"
      ]
     },
     "execution_count": 39,
     "metadata": {},
     "output_type": "execute_result"
    },
    {
     "data": {
      "image/png": "[encoded data removed]",
      "text/plain": [
       "<Figure size 432x288 with 1 Axes>"
      ]
     },
     "metadata": {
      "needs_background": "light"
     },
     "output_type": "display_data"
    }
   ],
   "source": [
    "df.boxplot(num_col)"
   ]
  },
  {
   "cell_type": "code",
   "execution_count": 40,
   "id": "e0774c78",
   "metadata": {
    "ExecuteTime": {
     "end_time": "2022-08-05T01:04:51.460793Z",
     "start_time": "2022-08-05T01:04:51.446434Z"
    }
   },
   "outputs": [],
   "source": [
    "for x in ['charges']:\n",
    "    q75,q25 = np.percentile(df.loc[:,x],[75,25])\n",
    "    intr_qr = q75-q25\n",
    " \n",
    "    max = q75+(1.5*intr_qr)\n",
    "    min = q25-(1.5*intr_qr)\n",
    " \n",
    "    df.loc[df[x] < min,x] = np.nan\n",
    "    df.loc[df[x] > max,x] = np.nan"
   ]
  },
  {
   "cell_type": "code",
   "execution_count": 41,
   "id": "a04f5adf",
   "metadata": {
    "ExecuteTime": {
     "end_time": "2022-08-05T01:04:52.275364Z",
     "start_time": "2022-08-05T01:04:52.254064Z"
    },
    "scrolled": true
   },
   "outputs": [
    {
     "data": {
      "text/plain": [
       "age           0\n",
       "sex           0\n",
       "bmi           0\n",
       "children      0\n",
       "smoker        0\n",
       "region        0\n",
       "charges     139\n",
       "dtype: int64"
      ]
     },
     "execution_count": 41,
     "metadata": {},
     "output_type": "execute_result"
    }
   ],
   "source": [
    "df.isnull().sum()"
   ]
  },
  {
   "cell_type": "code",
   "execution_count": 42,
   "id": "eebb68d9",
   "metadata": {
    "ExecuteTime": {
     "end_time": "2022-08-05T01:04:53.215381Z",
     "start_time": "2022-08-05T01:04:53.209897Z"
    }
   },
   "outputs": [],
   "source": [
    "df = df.dropna(axis=0)"
   ]
  },
  {
   "cell_type": "code",
   "execution_count": 43,
   "id": "fc83c051",
   "metadata": {
    "ExecuteTime": {
     "end_time": "2022-08-05T01:04:55.584484Z",
     "start_time": "2022-08-05T01:04:55.577048Z"
    },
    "scrolled": true
   },
   "outputs": [
    {
     "data": {
      "text/plain": [
       "age         0\n",
       "sex         0\n",
       "bmi         0\n",
       "children    0\n",
       "smoker      0\n",
       "region      0\n",
       "charges     0\n",
       "dtype: int64"
      ]
     },
     "execution_count": 43,
     "metadata": {},
     "output_type": "execute_result"
    }
   ],
   "source": [
    "df.isnull().sum()"
   ]
  },
  {
   "cell_type": "code",
   "execution_count": 44,
   "id": "211243c9",
   "metadata": {
    "ExecuteTime": {
     "end_time": "2022-08-05T01:05:06.294413Z",
     "start_time": "2022-08-05T01:05:06.190800Z"
    }
   },
   "outputs": [
    {
     "data": {
      "text/plain": [
       "<AxesSubplot:>"
      ]
     },
     "execution_count": 44,
     "metadata": {},
     "output_type": "execute_result"
    },
    {
     "data": {
      "image/png": "[encoded data removed]",
      "text/plain": [
       "<Figure size 432x288 with 1 Axes>"
      ]
     },
     "metadata": {
      "needs_background": "light"
     },
     "output_type": "display_data"
    }
   ],
   "source": [
    "df.boxplot(num_col)"
   ]
  },
  {
   "cell_type": "code",
   "execution_count": 45,
   "id": "3c17b701",
   "metadata": {
    "ExecuteTime": {
     "end_time": "2022-08-05T01:05:36.449722Z",
     "start_time": "2022-08-05T01:05:36.445257Z"
    }
   },
   "outputs": [],
   "source": [
    "## Q1\n",
    "### Null Hypothesis: There is no difference in insurance charges between smokers and non-smokers\n",
    "### Alt Hypothesis: We see a difference in insurance charges betweem smokers and non-smokers"
   ]
  },
  {
   "cell_type": "code",
   "execution_count": 46,
   "id": "0449bcd7",
   "metadata": {
    "ExecuteTime": {
     "end_time": "2022-08-05T01:05:36.863931Z",
     "start_time": "2022-08-05T01:05:36.847568Z"
    }
   },
   "outputs": [
    {
     "name": "stdout",
     "output_type": "stream",
     "text": [
      "For smokers (n=138): Mean=22014.25\n",
      "For Non-smokers (n=1061): Mean=8355.71\n"
     ]
    }
   ],
   "source": [
    "smoker_charges = df.loc[ df['smoker']=='yes',\"charges\"]\n",
    "nonsmoker_charges = df.loc[ df['smoker']=='no',\"charges\"]\n",
    "\n",
    "print(f\"For smokers (n={len(smoker_charges)}): Mean={np.mean(smoker_charges):.2f}\")\n",
    "print(f\"For Non-smokers (n={len(nonsmoker_charges)}): Mean={np.mean(nonsmoker_charges):.2f}\")"
   ]
  },
  {
   "cell_type": "code",
   "execution_count": 47,
   "id": "4da6755b",
   "metadata": {
    "ExecuteTime": {
     "end_time": "2022-08-05T01:05:38.353806Z",
     "start_time": "2022-08-05T01:05:37.963427Z"
    }
   },
   "outputs": [
    {
     "data": {
      "image/png": "[encoded data removed]",
      "text/plain": [
       "<Figure size 720x360 with 2 Axes>"
      ]
     },
     "metadata": {
      "needs_background": "light"
     },
     "output_type": "display_data"
    }
   ],
   "source": [
    "smoker_palette={'yes':'dodgerblue', \"no\":'salmon'}\n",
    "fig, (ax,ax_bar) = plt.subplots(figsize= (10,5), ncols=2, \n",
    "                                constrained_layout=True,\n",
    "                                gridspec_kw={'width_ratios':[0.8,0.2]})\n",
    "ax = sns.histplot(data=df, x='charges',fill=True,hue='smoker',kde=True,\n",
    "                  stat='density',common_norm=False,ax=ax,\n",
    "                  palette=smoker_palette)\n",
    "ax.axvline(np.mean(smoker_charges), ls='--',lw=3, \n",
    "           label=f\"Smokers (Mean={np.mean(smoker_charges):.2f})\",color=smoker_palette['yes'])\n",
    "\n",
    "ax.axvline(np.mean(nonsmoker_charges), ls='--', lw=3, \n",
    "           label=f\"Non-Smokers (Mean={np.mean(nonsmoker_charges):.2f})\",color=smoker_palette['no'])\n",
    "\n",
    "ax.legend(prop={\"size\":14}, loc='upper right')\n",
    "\n",
    "sns.barplot(data=df, x='smoker',y='charges',ax = ax_bar,palette=smoker_palette)\n",
    "fig.suptitle('Smoker vs. Non-Smoker Avg. charges',fontsize='xx-large');"
   ]
  },
  {
   "cell_type": "code",
   "execution_count": 48,
   "id": "f26db5b8",
   "metadata": {
    "ExecuteTime": {
     "end_time": "2022-08-05T01:05:44.268898Z",
     "start_time": "2022-08-05T01:05:44.255010Z"
    }
   },
   "outputs": [
    {
     "data": {
      "text/plain": [
       "0"
      ]
     },
     "execution_count": 48,
     "metadata": {},
     "output_type": "execute_result"
    }
   ],
   "source": [
    "zscores_s = stats.zscore(smoker_charges)\n",
    "outliers_s = abs(zscores_s)>3\n",
    "np.sum(outliers_s)"
   ]
  },
  {
   "cell_type": "code",
   "execution_count": 49,
   "id": "a69b5ef1",
   "metadata": {
    "ExecuteTime": {
     "end_time": "2022-08-05T01:05:46.313481Z",
     "start_time": "2022-08-05T01:05:46.306043Z"
    }
   },
   "outputs": [
    {
     "data": {
      "text/plain": [
       "26"
      ]
     },
     "execution_count": 49,
     "metadata": {},
     "output_type": "execute_result"
    }
   ],
   "source": [
    "zscores_n = stats.zscore(nonsmoker_charges)\n",
    "outliers_n = abs(zscores_n)>3\n",
    "np.sum(outliers_n)"
   ]
  },
  {
   "cell_type": "code",
   "execution_count": 50,
   "id": "7a86247a",
   "metadata": {
    "ExecuteTime": {
     "end_time": "2022-08-05T01:07:19.052517Z",
     "start_time": "2022-08-05T01:07:19.042599Z"
    }
   },
   "outputs": [
    {
     "data": {
      "text/plain": [
       "1639.56310     2\n",
       "1725.55230     1\n",
       "8891.13950     1\n",
       "2690.11380     1\n",
       "26140.36030    1\n",
       "              ..\n",
       "11840.77505    1\n",
       "10601.41200    1\n",
       "7682.67000     1\n",
       "10381.47870    1\n",
       "2007.94500     1\n",
       "Name: charges, Length: 1060, dtype: int64"
      ]
     },
     "execution_count": 50,
     "metadata": {},
     "output_type": "execute_result"
    }
   ],
   "source": [
    "nonsmoker_charges.value_counts()"
   ]
  },
  {
   "cell_type": "code",
   "execution_count": 51,
   "id": "e9d2b1d0",
   "metadata": {
    "ExecuteTime": {
     "end_time": "2022-08-05T01:07:21.375947Z",
     "start_time": "2022-08-05T01:07:21.368007Z"
    }
   },
   "outputs": [
    {
     "data": {
      "text/plain": [
       "NormaltestResult(statistic=12.9259309399843, pvalue=0.0015601622292913057)"
      ]
     },
     "execution_count": 51,
     "metadata": {},
     "output_type": "execute_result"
    }
   ],
   "source": [
    "result_s = stats.normaltest(smoker_charges)\n",
    "result_s"
   ]
  },
  {
   "cell_type": "code",
   "execution_count": 52,
   "id": "25a72fd5",
   "metadata": {
    "ExecuteTime": {
     "end_time": "2022-08-05T01:07:23.452669Z",
     "start_time": "2022-08-05T01:07:23.441230Z"
    }
   },
   "outputs": [
    {
     "data": {
      "text/plain": [
       "NormaltestResult(statistic=276.60999684673345, pvalue=8.608002116282395e-61)"
      ]
     },
     "execution_count": 52,
     "metadata": {},
     "output_type": "execute_result"
    }
   ],
   "source": [
    "result_n = stats.normaltest(nonsmoker_charges)\n",
    "result_n"
   ]
  },
  {
   "cell_type": "code",
   "execution_count": null,
   "id": "c4e00e0e",
   "metadata": {},
   "outputs": [],
   "source": []
  }
 ],
 "metadata": {
  "hide_input": false,
  "kernelspec": {
   "display_name": "Python (dojo-env)",
   "language": "python",
   "name": "dojo-env"
  },
  "language_info": {
   "codemirror_mode": {
    "name": "ipython",
    "version": 3
   },
   "file_extension": ".py",
   "mimetype": "text/x-python",
   "name": "python",
   "nbconvert_exporter": "python",
   "pygments_lexer": "ipython3",
   "version": "3.8.13"
  },
  "latex_envs": {
   "LaTeX_envs_menu_present": true,
   "autoclose": false,
   "autocomplete": true,
   "bibliofile": "biblio.bib",
   "cite_by": "apalike",
   "current_citInitial": 1,
   "eqLabelWithNumbers": true,
   "eqNumInitial": 1,
   "hotkeys": {
    "equation": "Ctrl-E",
    "itemize": "Ctrl-I"
   },
   "labels_anchors": false,
   "latex_user_defs": false,
   "report_style_numbering": false,
   "user_envs_cfg": false
  },
  "nbTranslate": {
   "displayLangs": [
    "*"
   ],
   "hotkey": "alt-t",
   "langInMainMenu": true,
   "sourceLang": "en",
   "targetLang": "fr",
   "useGoogleTranslate": true
  },
  "toc": {
   "base_numbering": 1,
   "nav_menu": {},
   "number_sections": false,
   "sideBar": true,
   "skip_h1_title": false,
   "title_cell": "Table of Contents",
   "title_sidebar": "Contents",
   "toc_cell": false,
   "toc_position": {},
   "toc_section_display": true,
   "toc_window_display": false
  },
  "varInspector": {
   "cols": {
    "lenName": 16,
    "lenType": 16,
    "lenVar": 40
   },
   "kernels_config": {
    "python": {
     "delete_cmd_postfix": "",
     "delete_cmd_prefix": "del ",
     "library": "var_list.py",
     "varRefreshCmd": "print(var_dic_list())"
    },
    "r": {
     "delete_cmd_postfix": ") ",
     "delete_cmd_prefix": "rm(",
     "library": "var_list.r",
     "varRefreshCmd": "cat(var_dic_list()) "
    }
   },
   "types_to_exclude": [
    "module",
    "function",
    "builtin_function_or_method",
    "instance",
    "_Feature"
   ],
   "window_display": false
  }
 },
 "nbformat": 4,
 "nbformat_minor": 5
}
